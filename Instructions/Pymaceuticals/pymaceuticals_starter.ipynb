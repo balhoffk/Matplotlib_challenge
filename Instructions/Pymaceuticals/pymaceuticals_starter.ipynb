{
 "cells": [
  {
   "cell_type": "markdown",
   "metadata": {},
   "source": [
    "## Observations and Insights"
   ]
  },
  {
   "cell_type": "markdown",
   "metadata": {},
   "source": []
  },
  {
   "cell_type": "markdown",
   "metadata": {},
   "source": [
    "## Dependencies and starter code"
   ]
  },
  {
   "cell_type": "code",
   "execution_count": 185,
   "metadata": {},
   "outputs": [],
   "source": [
    "# Dependencies and Setup\n",
    "import matplotlib.pyplot as plt\n",
    "import pandas as pd\n",
    "import scipy.stats as sts\n",
    "import numpy as np\n",
    "from scipy.stats import sem\n",
    "from scipy.stats import linregress\n",
    "\n",
    "# Study data files\n",
    "mouse_metadata = \"data/Mouse_metadata.csv\"\n",
    "study_results = \"data/Study_results.csv\"\n",
    "\n",
    "# Read the mouse data and the study results\n",
    "mouse_metadata = pd.read_csv(mouse_metadata)\n",
    "study_results = pd.read_csv(study_results)\n"
   ]
  },
  {
   "cell_type": "code",
   "execution_count": 95,
   "metadata": {},
   "outputs": [
    {
     "data": {
      "text/html": [
       "<div>\n",
       "<style scoped>\n",
       "    .dataframe tbody tr th:only-of-type {\n",
       "        vertical-align: middle;\n",
       "    }\n",
       "\n",
       "    .dataframe tbody tr th {\n",
       "        vertical-align: top;\n",
       "    }\n",
       "\n",
       "    .dataframe thead th {\n",
       "        text-align: right;\n",
       "    }\n",
       "</style>\n",
       "<table border=\"1\" class=\"dataframe\">\n",
       "  <thead>\n",
       "    <tr style=\"text-align: right;\">\n",
       "      <th></th>\n",
       "      <th>Mouse ID</th>\n",
       "      <th>Drug Regimen</th>\n",
       "      <th>Sex</th>\n",
       "      <th>Age_months</th>\n",
       "      <th>Weight (g)</th>\n",
       "    </tr>\n",
       "  </thead>\n",
       "  <tbody>\n",
       "    <tr>\n",
       "      <th>0</th>\n",
       "      <td>k403</td>\n",
       "      <td>Ramicane</td>\n",
       "      <td>Male</td>\n",
       "      <td>21</td>\n",
       "      <td>16</td>\n",
       "    </tr>\n",
       "    <tr>\n",
       "      <th>1</th>\n",
       "      <td>s185</td>\n",
       "      <td>Capomulin</td>\n",
       "      <td>Female</td>\n",
       "      <td>3</td>\n",
       "      <td>17</td>\n",
       "    </tr>\n",
       "    <tr>\n",
       "      <th>2</th>\n",
       "      <td>x401</td>\n",
       "      <td>Capomulin</td>\n",
       "      <td>Female</td>\n",
       "      <td>16</td>\n",
       "      <td>15</td>\n",
       "    </tr>\n",
       "    <tr>\n",
       "      <th>3</th>\n",
       "      <td>m601</td>\n",
       "      <td>Capomulin</td>\n",
       "      <td>Male</td>\n",
       "      <td>22</td>\n",
       "      <td>17</td>\n",
       "    </tr>\n",
       "    <tr>\n",
       "      <th>4</th>\n",
       "      <td>g791</td>\n",
       "      <td>Ramicane</td>\n",
       "      <td>Male</td>\n",
       "      <td>11</td>\n",
       "      <td>16</td>\n",
       "    </tr>\n",
       "  </tbody>\n",
       "</table>\n",
       "</div>"
      ],
      "text/plain": [
       "  Mouse ID Drug Regimen     Sex  Age_months  Weight (g)\n",
       "0     k403     Ramicane    Male          21          16\n",
       "1     s185    Capomulin  Female           3          17\n",
       "2     x401    Capomulin  Female          16          15\n",
       "3     m601    Capomulin    Male          22          17\n",
       "4     g791     Ramicane    Male          11          16"
      ]
     },
     "execution_count": 95,
     "metadata": {},
     "output_type": "execute_result"
    }
   ],
   "source": [
    "mouse_metadata.head()"
   ]
  },
  {
   "cell_type": "code",
   "execution_count": 96,
   "metadata": {},
   "outputs": [
    {
     "data": {
      "text/html": [
       "<div>\n",
       "<style scoped>\n",
       "    .dataframe tbody tr th:only-of-type {\n",
       "        vertical-align: middle;\n",
       "    }\n",
       "\n",
       "    .dataframe tbody tr th {\n",
       "        vertical-align: top;\n",
       "    }\n",
       "\n",
       "    .dataframe thead th {\n",
       "        text-align: right;\n",
       "    }\n",
       "</style>\n",
       "<table border=\"1\" class=\"dataframe\">\n",
       "  <thead>\n",
       "    <tr style=\"text-align: right;\">\n",
       "      <th></th>\n",
       "      <th>Mouse ID</th>\n",
       "      <th>Timepoint</th>\n",
       "      <th>Tumor Volume (mm3)</th>\n",
       "      <th>Metastatic Sites</th>\n",
       "    </tr>\n",
       "  </thead>\n",
       "  <tbody>\n",
       "    <tr>\n",
       "      <th>0</th>\n",
       "      <td>b128</td>\n",
       "      <td>0</td>\n",
       "      <td>45.0</td>\n",
       "      <td>0</td>\n",
       "    </tr>\n",
       "    <tr>\n",
       "      <th>1</th>\n",
       "      <td>f932</td>\n",
       "      <td>0</td>\n",
       "      <td>45.0</td>\n",
       "      <td>0</td>\n",
       "    </tr>\n",
       "    <tr>\n",
       "      <th>2</th>\n",
       "      <td>g107</td>\n",
       "      <td>0</td>\n",
       "      <td>45.0</td>\n",
       "      <td>0</td>\n",
       "    </tr>\n",
       "    <tr>\n",
       "      <th>3</th>\n",
       "      <td>a457</td>\n",
       "      <td>0</td>\n",
       "      <td>45.0</td>\n",
       "      <td>0</td>\n",
       "    </tr>\n",
       "    <tr>\n",
       "      <th>4</th>\n",
       "      <td>c819</td>\n",
       "      <td>0</td>\n",
       "      <td>45.0</td>\n",
       "      <td>0</td>\n",
       "    </tr>\n",
       "  </tbody>\n",
       "</table>\n",
       "</div>"
      ],
      "text/plain": [
       "  Mouse ID  Timepoint  Tumor Volume (mm3)  Metastatic Sites\n",
       "0     b128          0                45.0                 0\n",
       "1     f932          0                45.0                 0\n",
       "2     g107          0                45.0                 0\n",
       "3     a457          0                45.0                 0\n",
       "4     c819          0                45.0                 0"
      ]
     },
     "execution_count": 96,
     "metadata": {},
     "output_type": "execute_result"
    }
   ],
   "source": [
    "study_results.head()"
   ]
  },
  {
   "cell_type": "code",
   "execution_count": 97,
   "metadata": {},
   "outputs": [],
   "source": [
    "# Combine the data into a single dataset\n",
    "combined_data = pd.merge(study_results, mouse_metadata, how = \"left\", on=[\"Mouse ID\", \"Mouse ID\"])"
   ]
  },
  {
   "cell_type": "code",
   "execution_count": 98,
   "metadata": {},
   "outputs": [
    {
     "data": {
      "text/html": [
       "<div>\n",
       "<style scoped>\n",
       "    .dataframe tbody tr th:only-of-type {\n",
       "        vertical-align: middle;\n",
       "    }\n",
       "\n",
       "    .dataframe tbody tr th {\n",
       "        vertical-align: top;\n",
       "    }\n",
       "\n",
       "    .dataframe thead th {\n",
       "        text-align: right;\n",
       "    }\n",
       "</style>\n",
       "<table border=\"1\" class=\"dataframe\">\n",
       "  <thead>\n",
       "    <tr style=\"text-align: right;\">\n",
       "      <th></th>\n",
       "      <th>Mouse ID</th>\n",
       "      <th>Timepoint</th>\n",
       "      <th>Tumor Volume (mm3)</th>\n",
       "      <th>Metastatic Sites</th>\n",
       "      <th>Drug Regimen</th>\n",
       "      <th>Sex</th>\n",
       "      <th>Age_months</th>\n",
       "      <th>Weight (g)</th>\n",
       "    </tr>\n",
       "  </thead>\n",
       "  <tbody>\n",
       "    <tr>\n",
       "      <th>0</th>\n",
       "      <td>b128</td>\n",
       "      <td>0</td>\n",
       "      <td>45.0</td>\n",
       "      <td>0</td>\n",
       "      <td>Capomulin</td>\n",
       "      <td>Female</td>\n",
       "      <td>9</td>\n",
       "      <td>22</td>\n",
       "    </tr>\n",
       "    <tr>\n",
       "      <th>1</th>\n",
       "      <td>f932</td>\n",
       "      <td>0</td>\n",
       "      <td>45.0</td>\n",
       "      <td>0</td>\n",
       "      <td>Ketapril</td>\n",
       "      <td>Male</td>\n",
       "      <td>15</td>\n",
       "      <td>29</td>\n",
       "    </tr>\n",
       "    <tr>\n",
       "      <th>2</th>\n",
       "      <td>g107</td>\n",
       "      <td>0</td>\n",
       "      <td>45.0</td>\n",
       "      <td>0</td>\n",
       "      <td>Ketapril</td>\n",
       "      <td>Female</td>\n",
       "      <td>2</td>\n",
       "      <td>29</td>\n",
       "    </tr>\n",
       "    <tr>\n",
       "      <th>3</th>\n",
       "      <td>a457</td>\n",
       "      <td>0</td>\n",
       "      <td>45.0</td>\n",
       "      <td>0</td>\n",
       "      <td>Ketapril</td>\n",
       "      <td>Female</td>\n",
       "      <td>11</td>\n",
       "      <td>30</td>\n",
       "    </tr>\n",
       "    <tr>\n",
       "      <th>4</th>\n",
       "      <td>c819</td>\n",
       "      <td>0</td>\n",
       "      <td>45.0</td>\n",
       "      <td>0</td>\n",
       "      <td>Ketapril</td>\n",
       "      <td>Male</td>\n",
       "      <td>21</td>\n",
       "      <td>25</td>\n",
       "    </tr>\n",
       "  </tbody>\n",
       "</table>\n",
       "</div>"
      ],
      "text/plain": [
       "  Mouse ID  Timepoint  Tumor Volume (mm3)  Metastatic Sites Drug Regimen  \\\n",
       "0     b128          0                45.0                 0    Capomulin   \n",
       "1     f932          0                45.0                 0     Ketapril   \n",
       "2     g107          0                45.0                 0     Ketapril   \n",
       "3     a457          0                45.0                 0     Ketapril   \n",
       "4     c819          0                45.0                 0     Ketapril   \n",
       "\n",
       "      Sex  Age_months  Weight (g)  \n",
       "0  Female           9          22  \n",
       "1    Male          15          29  \n",
       "2  Female           2          29  \n",
       "3  Female          11          30  \n",
       "4    Male          21          25  "
      ]
     },
     "execution_count": 98,
     "metadata": {},
     "output_type": "execute_result"
    }
   ],
   "source": [
    "combined_data.head()"
   ]
  },
  {
   "cell_type": "markdown",
   "metadata": {},
   "source": [
    "## Summary statistics"
   ]
  },
  {
   "cell_type": "code",
   "execution_count": 113,
   "metadata": {},
   "outputs": [
    {
     "data": {
      "text/html": [
       "<div>\n",
       "<style scoped>\n",
       "    .dataframe tbody tr th:only-of-type {\n",
       "        vertical-align: middle;\n",
       "    }\n",
       "\n",
       "    .dataframe tbody tr th {\n",
       "        vertical-align: top;\n",
       "    }\n",
       "\n",
       "    .dataframe thead th {\n",
       "        text-align: right;\n",
       "    }\n",
       "</style>\n",
       "<table border=\"1\" class=\"dataframe\">\n",
       "  <thead>\n",
       "    <tr style=\"text-align: right;\">\n",
       "      <th></th>\n",
       "      <th>Drug Regimen</th>\n",
       "      <th>Mean</th>\n",
       "      <th>Median</th>\n",
       "      <th>Variance</th>\n",
       "      <th>Standard Deviation</th>\n",
       "      <th>SEM</th>\n",
       "    </tr>\n",
       "  </thead>\n",
       "  <tbody>\n",
       "    <tr>\n",
       "      <th>0</th>\n",
       "      <td>Capomulin</td>\n",
       "      <td>40.6757</td>\n",
       "      <td>41.5578</td>\n",
       "      <td>24.8393</td>\n",
       "      <td>4.9839</td>\n",
       "      <td>0.329346</td>\n",
       "    </tr>\n",
       "    <tr>\n",
       "      <th>1</th>\n",
       "      <td>Ketapril</td>\n",
       "      <td>55.2356</td>\n",
       "      <td>53.6987</td>\n",
       "      <td>68.1889</td>\n",
       "      <td>8.25766</td>\n",
       "      <td>0.60386</td>\n",
       "    </tr>\n",
       "    <tr>\n",
       "      <th>2</th>\n",
       "      <td>Naftisol</td>\n",
       "      <td>54.3316</td>\n",
       "      <td>52.5093</td>\n",
       "      <td>65.8177</td>\n",
       "      <td>8.11281</td>\n",
       "      <td>0.596466</td>\n",
       "    </tr>\n",
       "    <tr>\n",
       "      <th>3</th>\n",
       "      <td>Infubinol</td>\n",
       "      <td>52.8848</td>\n",
       "      <td>51.8206</td>\n",
       "      <td>42.8864</td>\n",
       "      <td>6.54877</td>\n",
       "      <td>0.492236</td>\n",
       "    </tr>\n",
       "    <tr>\n",
       "      <th>4</th>\n",
       "      <td>Stelasyn</td>\n",
       "      <td>54.2331</td>\n",
       "      <td>52.4317</td>\n",
       "      <td>59.1221</td>\n",
       "      <td>7.68909</td>\n",
       "      <td>0.573111</td>\n",
       "    </tr>\n",
       "    <tr>\n",
       "      <th>5</th>\n",
       "      <td>Ramicane</td>\n",
       "      <td>40.2167</td>\n",
       "      <td>40.6732</td>\n",
       "      <td>23.3837</td>\n",
       "      <td>4.83567</td>\n",
       "      <td>0.320955</td>\n",
       "    </tr>\n",
       "    <tr>\n",
       "      <th>6</th>\n",
       "      <td>Propriva</td>\n",
       "      <td>52.3226</td>\n",
       "      <td>50.8546</td>\n",
       "      <td>42.088</td>\n",
       "      <td>6.48753</td>\n",
       "      <td>0.512884</td>\n",
       "    </tr>\n",
       "    <tr>\n",
       "      <th>7</th>\n",
       "      <td>Zoniferol</td>\n",
       "      <td>53.2365</td>\n",
       "      <td>51.8185</td>\n",
       "      <td>48.2667</td>\n",
       "      <td>6.94742</td>\n",
       "      <td>0.516398</td>\n",
       "    </tr>\n",
       "    <tr>\n",
       "      <th>8</th>\n",
       "      <td>Placebo</td>\n",
       "      <td>54.0336</td>\n",
       "      <td>52.2889</td>\n",
       "      <td>60.8301</td>\n",
       "      <td>7.79937</td>\n",
       "      <td>0.581331</td>\n",
       "    </tr>\n",
       "    <tr>\n",
       "      <th>9</th>\n",
       "      <td>Ceftamin</td>\n",
       "      <td>52.5912</td>\n",
       "      <td>51.7762</td>\n",
       "      <td>39.0694</td>\n",
       "      <td>6.25056</td>\n",
       "      <td>0.469821</td>\n",
       "    </tr>\n",
       "  </tbody>\n",
       "</table>\n",
       "</div>"
      ],
      "text/plain": [
       "  Drug Regimen     Mean   Median Variance Standard Deviation       SEM\n",
       "0    Capomulin  40.6757  41.5578  24.8393             4.9839  0.329346\n",
       "1     Ketapril  55.2356  53.6987  68.1889            8.25766   0.60386\n",
       "2     Naftisol  54.3316  52.5093  65.8177            8.11281  0.596466\n",
       "3    Infubinol  52.8848  51.8206  42.8864            6.54877  0.492236\n",
       "4     Stelasyn  54.2331  52.4317  59.1221            7.68909  0.573111\n",
       "5     Ramicane  40.2167  40.6732  23.3837            4.83567  0.320955\n",
       "6     Propriva  52.3226  50.8546   42.088            6.48753  0.512884\n",
       "7    Zoniferol  53.2365  51.8185  48.2667            6.94742  0.516398\n",
       "8      Placebo  54.0336  52.2889  60.8301            7.79937  0.581331\n",
       "9     Ceftamin  52.5912  51.7762  39.0694            6.25056  0.469821"
      ]
     },
     "execution_count": 113,
     "metadata": {},
     "output_type": "execute_result"
    }
   ],
   "source": [
    "# Generate a summary statistics table of mean, median, variance, standard deviation, and\n",
    "#SEM of the tumor volume for each regimen\n",
    "#tumor_volume = combined_data['Tumor Volume (mm3)']\n",
    "#mean_tumorvol = np.mean(tumor_volume)\n",
    "#median_tumorvol = np.median(tumor_volume)\n",
    "#var_tumorvol = np.var(tumor_volume,ddof = 0)\n",
    "#std_tumorvol = np.std(tumor_volume,ddof = 0)\n",
    "#z_tumorvol = sts.zscore(tumor_volume)\n",
    "####Need to add all these together into the same summary statistic\n",
    "\n",
    "Capomulin = combined_data.loc[combined_data['Drug Regimen'] =='Capomulin']\n",
    "Capomulin_mean = np.mean(Capomulin['Tumor Volume (mm3)'])\n",
    "Capomulin_median = np.median(Capomulin['Tumor Volume (mm3)'])\n",
    "Capomulin_var = np.var(Capomulin['Tumor Volume (mm3)'])\n",
    "Capomulin_std = np.std(Capomulin['Tumor Volume (mm3)'])\n",
    "Capomulin_sem = st.sem(Capomulin['Tumor Volume (mm3)'])\n",
    "Capomulin_data = [\"Capomulin\", Capomulin_mean, Capomulin_median, Capomulin_var, Capomulin_std, Capomulin_sem]\n",
    "\n",
    "Ketapril = combined_data.loc[combined_data['Drug Regimen'] =='Ketapril']\n",
    "Ketapril_mean = np.mean(Ketapril['Tumor Volume (mm3)'])\n",
    "Ketapril_median = np.median(Ketapril['Tumor Volume (mm3)'])\n",
    "Ketapril_var = np.var(Ketapril['Tumor Volume (mm3)'])\n",
    "Ketapril_std = np.std(Ketapril['Tumor Volume (mm3)'])\n",
    "Ketapril_sem = st.sem(Ketapril['Tumor Volume (mm3)'])\n",
    "Ketapril_data = [\"Ketapril\", Ketapril_mean, Ketapril_median, Ketapril_var, Ketapril_std, Ketapril_sem]\n",
    "\n",
    "Naftisol = combined_data.loc[combined_data['Drug Regimen'] =='Naftisol']\n",
    "Naftisol_mean = np.mean(Naftisol['Tumor Volume (mm3)'])\n",
    "Naftisol_median = np.median(Naftisol['Tumor Volume (mm3)'])\n",
    "Naftisol_var = np.var(Naftisol['Tumor Volume (mm3)'])\n",
    "Naftisol_std = np.std(Naftisol['Tumor Volume (mm3)'])\n",
    "Naftisol_sem = st.sem(Naftisol['Tumor Volume (mm3)'])\n",
    "Naftisol_data = [\"Naftisol\", Naftisol_mean, Naftisol_median, Naftisol_var, Naftisol_std, Naftisol_sem]\n",
    "\n",
    "Infubinol = combined_data.loc[combined_data['Drug Regimen'] =='Infubinol']\n",
    "Infubinol_mean = np.mean(Infubinol['Tumor Volume (mm3)'])\n",
    "Infubinol_median = np.median(Infubinol['Tumor Volume (mm3)'])\n",
    "Infubinol_var = np.var(Infubinol['Tumor Volume (mm3)'])\n",
    "Infubinol_std = np.std(Infubinol['Tumor Volume (mm3)'])\n",
    "Infubinol_sem = st.sem(Infubinol['Tumor Volume (mm3)'])\n",
    "Infubinol_data = [\"Infubinol\", Infubinol_mean, Infubinol_median, Infubinol_var, Infubinol_std, Infubinol_sem]\n",
    "\n",
    "Stelasyn = combined_data.loc[combined_data['Drug Regimen'] =='Stelasyn']\n",
    "Stelasyn_mean = np.mean(Stelasyn['Tumor Volume (mm3)'])\n",
    "Stelasyn_median = np.median(Stelasyn['Tumor Volume (mm3)'])\n",
    "Stelasyn_var = np.var(Stelasyn['Tumor Volume (mm3)'])\n",
    "Stelasyn_std = np.std(Stelasyn['Tumor Volume (mm3)'])\n",
    "Stelasyn_sem = st.sem(Stelasyn['Tumor Volume (mm3)'])\n",
    "Stelasyn_data = [\"Stelasyn\", Stelasyn_mean, Stelasyn_median, Stelasyn_var, Stelasyn_std, Stelasyn_sem]\n",
    "\n",
    "Ramicane = combined_data.loc[combined_data['Drug Regimen'] =='Ramicane']\n",
    "Ramicane_mean = np.mean(Ramicane['Tumor Volume (mm3)'])\n",
    "Ramicane_median = np.median(Ramicane['Tumor Volume (mm3)'])\n",
    "Ramicane_var = np.var(Ramicane['Tumor Volume (mm3)'])\n",
    "Ramicane_std = np.std(Ramicane['Tumor Volume (mm3)'])\n",
    "Ramicane_sem = st.sem(Ramicane['Tumor Volume (mm3)'])\n",
    "Ramicane_data = [\"Ramicane\", Ramicane_mean, Ramicane_median, Ramicane_var, Ramicane_std, Ramicane_sem]\n",
    "\n",
    "Propriva = combined_data.loc[combined_data['Drug Regimen'] =='Propriva']\n",
    "Propriva_mean = np.mean(Propriva['Tumor Volume (mm3)'])\n",
    "Propriva_median = np.median(Propriva['Tumor Volume (mm3)'])\n",
    "Propriva_var = np.var(Propriva['Tumor Volume (mm3)'])\n",
    "Propriva_std = np.std(Propriva['Tumor Volume (mm3)'])\n",
    "Propriva_sem = st.sem(Propriva['Tumor Volume (mm3)'])\n",
    "Propriva_data = [\"Propriva\", Propriva_mean, Propriva_median, Propriva_var, Propriva_std, Propriva_sem]\n",
    "\n",
    "Zoniferol = combined_data.loc[combined_data['Drug Regimen'] =='Zoniferol']\n",
    "Zoniferol_mean = np.mean(Zoniferol['Tumor Volume (mm3)'])\n",
    "Zoniferol_median = np.median(Zoniferol['Tumor Volume (mm3)'])\n",
    "Zoniferol_var = np.var(Zoniferol['Tumor Volume (mm3)'])\n",
    "Zoniferol_std = np.std(Zoniferol['Tumor Volume (mm3)'])\n",
    "Zoniferol_sem = st.sem(Zoniferol['Tumor Volume (mm3)'])\n",
    "Zoniferol_data = [\"Zoniferol\", Zoniferol_mean, Zoniferol_median, Zoniferol_var, Zoniferol_std, Zoniferol_sem]\n",
    "\n",
    "Placebo = combined_data.loc[combined_data['Drug Regimen'] =='Placebo']\n",
    "Placebo_mean = np.mean(Placebo['Tumor Volume (mm3)'])\n",
    "Placebo_median = np.median(Placebo['Tumor Volume (mm3)'])\n",
    "Placebo_var = np.var(Placebo['Tumor Volume (mm3)'])\n",
    "Placebo_std = np.std(Placebo['Tumor Volume (mm3)'])\n",
    "Placebo_sem = st.sem(Placebo['Tumor Volume (mm3)'])\n",
    "Placebo_data = [\"Placebo\", Placebo_mean, Placebo_median, Placebo_var, Placebo_std, Placebo_sem]\n",
    "\n",
    "Ceftamin = combined_data.loc[combined_data['Drug Regimen'] =='Ceftamin']\n",
    "Ceftamin_mean = np.mean(Ceftamin['Tumor Volume (mm3)'])\n",
    "Ceftamin_median = np.median(Ceftamin['Tumor Volume (mm3)'])\n",
    "Ceftamin_var = np.var(Ceftamin['Tumor Volume (mm3)'])\n",
    "Ceftamin_std = np.std(Ceftamin['Tumor Volume (mm3)'])\n",
    "Ceftamin_sem = st.sem(Ceftamin['Tumor Volume (mm3)'])\n",
    "Ceftamin_data = [\"Ceftamin\", Ceftamin_mean, Ceftamin_median, Ceftamin_var, Ceftamin_std, Ceftamin_sem]\n",
    "\n",
    "regimen_data = pd.DataFrame(columns = {\"Drug Regimen\", \"Mean\", \"Median\", \"Variance\", \"Standard Deviation\", \"SEM\"}, index = [0, 1, 2, 3, 4, 5, 6, 7, 8, 9])\n",
    "\n",
    "regimen_data = regimen_data.rename(columns = {\"Mean\":\"Drug Regimen\", \"SEM\":\"Mean\", \"Drug Regimen\":\"Median\", \"Median\":\"SEM\"})\n",
    "\n",
    "regimen_data.loc[0] = Capomulin_data\n",
    "regimen_data.loc[1] = Ketapril_data\n",
    "regimen_data.loc[2] = Naftisol_data\n",
    "regimen_data.loc[3] = Infubinol_data\n",
    "regimen_data.loc[4] = Stelasyn_data\n",
    "regimen_data.loc[5] = Ramicane_data\n",
    "regimen_data.loc[6] = Propriva_data\n",
    "regimen_data.loc[7] = Zoniferol_data\n",
    "regimen_data.loc[8] = Placebo_data\n",
    "regimen_data.loc[9] = Ceftamin_data\n",
    "regimen_data\n",
    "\n"
   ]
  },
  {
   "cell_type": "markdown",
   "metadata": {},
   "source": [
    "## Bar plots"
   ]
  },
  {
   "cell_type": "code",
   "execution_count": 43,
   "metadata": {
    "scrolled": true
   },
   "outputs": [
    {
     "data": {
      "text/plain": [
       "array(['Capomulin', 'Ketapril', 'Naftisol', 'Infubinol', 'Stelasyn',\n",
       "       'Ramicane', 'Propriva', 'Zoniferol', 'Placebo', 'Ceftamin'],\n",
       "      dtype=object)"
      ]
     },
     "execution_count": 43,
     "metadata": {},
     "output_type": "execute_result"
    }
   ],
   "source": [
    "combined_data[\"Drug Regimen\"].unique()"
   ]
  },
  {
   "cell_type": "code",
   "execution_count": 136,
   "metadata": {},
   "outputs": [
    {
     "data": {
      "text/plain": [
       "<matplotlib.axes._subplots.AxesSubplot at 0x1dbfd46e5c0>"
      ]
     },
     "execution_count": 136,
     "metadata": {},
     "output_type": "execute_result"
    },
    {
     "data": {
      "image/png": "[encoded data removed]",
      "text/plain": [
       "<Figure size 432x288 with 1 Axes>"
      ]
     },
     "metadata": {
      "needs_background": "light"
     },
     "output_type": "display_data"
    }
   ],
   "source": [
    "# Generate a bar plot showing number of data points for each treatment regimen using pandas\n",
    "drug_regimens = combined_data.groupby('Drug Regimen')\n",
    "#drug_regimens = [\"Capomulin\", \"Ketapril\", \"Naftisol\", \"Infubinol\", \"Stelasyn\", \"Ramicane\", \"Propriva\", \"Zoniferol\", \"Placebo\", \"Ceftamin\"]\n",
    "x_axis = drug_regimens\n",
    "count_regimens = drug_regimens['Drug Regimen'].count()\n",
    "y_axis = count_regimens\n",
    "final_regimen = {\"Drug Regimen\": x_axis, \"Number of Data Points\": y_axis}\n",
    "\n",
    "count_regimens.plot.bar(drug_regimens, count_regimens, label = \"Number of Data Points\")\n"
   ]
  },
  {
   "cell_type": "code",
   "execution_count": 51,
   "metadata": {},
   "outputs": [
    {
     "data": {
      "image/png": "[encoded data removed]",
      "text/plain": [
       "<Figure size 432x288 with 1 Axes>"
      ]
     },
     "metadata": {
      "needs_background": "light"
     },
     "output_type": "display_data"
    },
    {
     "data": {
      "text/plain": [
       "<Figure size 432x288 with 0 Axes>"
      ]
     },
     "metadata": {},
     "output_type": "display_data"
    }
   ],
   "source": [
    "# Generate a bar plot showing number of data points for each treatment regimen using pyplot\n",
    "regimens_chart = count_regimens.plot(kind='bar')\n",
    "regimens_chart.set_xlabel(\"Drug Regimens\")\n",
    "regimens_chart.set_ylabel(\"Count Of Each Regimen\")\n",
    "regimens_chart\n",
    "\n",
    "\n",
    "plt.show()\n",
    "plt.tight_layout()"
   ]
  },
  {
   "cell_type": "markdown",
   "metadata": {},
   "source": [
    "## Pie plots"
   ]
  },
  {
   "cell_type": "code",
   "execution_count": 138,
   "metadata": {},
   "outputs": [
    {
     "data": {
      "image/png": "[encoded data removed]",
      "text/plain": [
       "<Figure size 432x288 with 1 Axes>"
      ]
     },
     "metadata": {},
     "output_type": "display_data"
    }
   ],
   "source": [
    "# Generate a pie plot showing the distribution of female versus male mice using pandas\n",
    "male_mice = len(combined_data[combined_data[\"Sex\"] == \"Male\"])\n",
    "female_mice = len(combined_data[combined_data[\"Sex\"] == \"Female\"])\n",
    "explode = (0.1,0)\n",
    "pie_df = pd.DataFrame({\"Total by Gender\": [male_mice, female_mice]},\n",
    "                      index = [\"Male Count\", \"Female Count\"])\n",
    "pieplot = pie_df.plot.pie(y=\"Total by Gender\", explode = explode, autopct = \"%1.1f%%\")"
   ]
  },
  {
   "cell_type": "code",
   "execution_count": 146,
   "metadata": {},
   "outputs": [
    {
     "data": {
      "text/plain": [
       "([<matplotlib.patches.Wedge at 0x1dbfd4224a8>,\n",
       "  <matplotlib.patches.Wedge at 0x1dbfd422be0>],\n",
       " [Text(-0.022900912879184103, 1.1997814585120492, 'Male Count'),\n",
       "  Text(0.020992503472585782, -1.0997996703027118, 'Female Count')],\n",
       " [Text(-0.013358865846190724, 0.699872517465362, '50.6%'),\n",
       "  Text(0.011450456439592244, -0.5998907292560246, '49.4%')])"
      ]
     },
     "execution_count": 146,
     "metadata": {},
     "output_type": "execute_result"
    },
    {
     "data": {
      "image/png": "[encoded data removed]",
      "text/plain": [
       "<Figure size 432x288 with 1 Axes>"
      ]
     },
     "metadata": {},
     "output_type": "display_data"
    }
   ],
   "source": [
    "# Generate a pie plot showing the distribution of female versus male mice using pyplot\n",
    "male_mice2 = len(combined_data[combined_data[\"Sex\"] == \"Male\"])\n",
    "female_mice2 = len(combined_data[combined_data[\"Sex\"] == \"Female\"])\n",
    "explode = (0.1,0)\n",
    "pie_2 = [male_mice2, female_mice2]\n",
    "labels = [\"Male Count\", \"Female Count\"]\n",
    "colors = [\"Blue\", \"Orange\"]\n",
    "plt.title(\"Total by Gender\")\n",
    "plt.pie(pie_2, explode=explode, labels = labels, colors = colors, autopct = \"%1.1f%%\")\n"
   ]
  },
  {
   "cell_type": "markdown",
   "metadata": {},
   "source": [
    "## Quartiles, outliers and boxplots"
   ]
  },
  {
   "cell_type": "code",
   "execution_count": 148,
   "metadata": {},
   "outputs": [
    {
     "data": {
      "text/plain": [
       "45"
      ]
     },
     "execution_count": 148,
     "metadata": {},
     "output_type": "execute_result"
    }
   ],
   "source": [
    "combined_data[\"Timepoint\"].max()\n"
   ]
  },
  {
   "cell_type": "code",
   "execution_count": 159,
   "metadata": {},
   "outputs": [
    {
     "name": "stdout",
     "output_type": "stream",
     "text": [
      "There are no potential outliers.\n",
      "105.135493215\n",
      "-9.513252184999999\n",
      "72.2267309\n",
      "22.05012627\n"
     ]
    }
   ],
   "source": [
    "# Calculate the final tumor volume of each mouse across four of the most promising treatment regimens. Calculate the IQR and quantitatively determine if there are any potential outliers.\n",
    "# most promising treatment regimens -  Ramicane, Capomulin, Infubinol, Ceftamin\n",
    "Ramicane_volume = Ramicane[Ramicane[\"Timepoint\"] == 45]\n",
    "Ramicane_volume\n",
    "Capomulin_volume = Capomulin[Capomulin[\"Timepoint\"] == 45]\n",
    "Capomulin_volume                          \n",
    "Infubinol_volume = Infubinol[Infubinol[\"Timepoint\"] == 45]\n",
    "Infubinol_volume            \n",
    "Ceftamin_volume = Ceftamin[Ceftamin[\"Timepoint\"] == 45]\n",
    "Ceftamin_volume            \n",
    "\n",
    "RC_data = pd.merge(Ramicane_volume, Capomulin_volume, how =\"outer\")\n",
    "IC_data = pd.merge(Infubinol_volume, Ceftamin_volume, how =\"outer\")\n",
    "merged_data = pd.merge(RC_data, IC_data, how = \"outer\")\n",
    "merged_data\n",
    "\n",
    "sum_volume = merged_data['Tumor Volume (mm3)']\n",
    "quartiles = sum_volume.quantile([.25, .5, .75])\n",
    "lowerquartile = quartiles[0.25]\n",
    "upperquartile = quartiles[0.75]\n",
    "IQR = upperquartile - lowerquartile\n",
    "IQR\n",
    "\n",
    "upper_bound = upperquartile + (1.5*IQR)\n",
    "lower_bound = lowerquartile - (1.5*IQR)\n",
    "if sum_volume.min() < lower_bound or sum_volume.max() > upper_bound:\n",
    "    print(\"There are potential outliers.\")\n",
    "else:\n",
    "    print(\"There are no potential outliers.\")\n",
    "print(upper_bound)\n",
    "print(lower_bound)\n",
    "sum_volume\n",
    "print(sum_volume.max())\n",
    "print(sum_volume.min())"
   ]
  },
  {
   "cell_type": "code",
   "execution_count": 162,
   "metadata": {},
   "outputs": [
    {
     "data": {
      "image/png": "[encoded data removed]",
      "text/plain": [
       "<Figure size 432x288 with 1 Axes>"
      ]
     },
     "metadata": {
      "needs_background": "light"
     },
     "output_type": "display_data"
    }
   ],
   "source": [
    "# Generate a box plot of the final tumor volume of each mouse across four regimens of interest\n",
    "Ramicane_box = Ramicane_volume['Tumor Volume (mm3)'].tolist()\n",
    "Ramicane_box\n",
    "Capomulin_box = Capomulin_volume['Tumor Volume (mm3)'].tolist()\n",
    "Capomulin_box\n",
    "Infubinol_box = Infubinol_volume['Tumor Volume (mm3)'].tolist()\n",
    "Infubinol_box\n",
    "Ceftamin_box = Ceftamin_volume['Tumor Volume (mm3)'].tolist()\n",
    "Ceftamin_box\n",
    "\n",
    "total_box = [Ramicane_box, Capomulin_box, Infubinol_box, Ceftamin_box]\n",
    "box_x = [\"Ramicane\", \"Capomulin\", \"Ketapril\", \"Naftisol\"]\n",
    "plt.boxplot(total_box, labels = box_x)\n",
    "plt.title(\"Final Tumor Volume of each Mouse Across Four Lead Regimens\")\n",
    "plt.xlabel(\"Regimen Name\")\n",
    "plt.ylabel(\"Final Tumor Volume\")\n",
    "plt.show()\n"
   ]
  },
  {
   "cell_type": "markdown",
   "metadata": {},
   "source": [
    "## Line and scatter plots"
   ]
  },
  {
   "cell_type": "code",
   "execution_count": 168,
   "metadata": {},
   "outputs": [
    {
     "data": {
      "image/png": "[encoded data removed]",
      "text/plain": [
       "<Figure size 432x288 with 1 Axes>"
      ]
     },
     "metadata": {
      "needs_background": "light"
     },
     "output_type": "display_data"
    }
   ],
   "source": [
    "# Generate a line plot of time point versus tumor volume for a mouse treated with Capomulin\n",
    "capomulin_line = combined_data[combined_data['Drug Regimen'] == \"Capomulin\"]\n",
    "\n",
    "lab_rat = capomulin_line[capomulin_line[\"Mouse ID\"] == \"b128\"]\n",
    "lab_rat\n",
    "\n",
    "#Plot the data\n",
    "plt.plot(lab_rat['Timepoint'], lab_rat['Tumor Volume (mm3)'], color=\"blue\")\n",
    "plt.title(\"Time Point Versus Tumor Volume for Capomulin Mouse b128\")\n",
    "plt.xlabel(\"Timepoint\")\n",
    "plt.ylabel(\"Tumor Volume (mm3)\")\n",
    "plt.xlim(0, 50, 10)\n",
    "plt.ylim(30, 50, 2.5)\n",
    "plt.grid()\n",
    "plt.show()"
   ]
  },
  {
   "cell_type": "code",
   "execution_count": 172,
   "metadata": {},
   "outputs": [
    {
     "data": {
      "image/png": "[encoded data removed]",
      "text/plain": [
       "<Figure size 432x288 with 1 Axes>"
      ]
     },
     "metadata": {
      "needs_background": "light"
     },
     "output_type": "display_data"
    },
    {
     "data": {
      "text/plain": [
       "['b128',\n",
       " 'j246',\n",
       " 'r554',\n",
       " 's185',\n",
       " 'b742',\n",
       " 'x401',\n",
       " 'l509',\n",
       " 's710',\n",
       " 'r157',\n",
       " 'u364',\n",
       " 'j119',\n",
       " 'v923',\n",
       " 'w914',\n",
       " 'i738',\n",
       " 'r944',\n",
       " 'y793',\n",
       " 'g316',\n",
       " 'g288',\n",
       " 'l897',\n",
       " 'w150',\n",
       " 't565',\n",
       " 'i557',\n",
       " 'm957',\n",
       " 'f966',\n",
       " 'm601']"
      ]
     },
     "execution_count": 172,
     "metadata": {},
     "output_type": "execute_result"
    }
   ],
   "source": [
    "# Generate a scatter plot of mouse weight versus average tumor volume for the Capomulin regimen\n",
    "capomulin_all = capomulin_line[\"Mouse ID\"].unique().tolist()\n",
    "\n",
    "average_volume = []\n",
    "mouse_weight = []\n",
    "\n",
    "#Create a for loop that uses mouse_list to calculate the average tumor volumes\n",
    "#and store the weight values for the mice\n",
    "for x in capomulin_all:\n",
    "    average_volume.append(np.mean(capomulin_line[capomulin_line[\"Mouse ID\"] == x]['Tumor Volume (mm3)'].tolist()))\n",
    "    mouse_weight.append(np.mean(capomulin_line[capomulin_line[\"Mouse ID\"] == x]['Weight (g)'].tolist()))\n",
    "    \n",
    "average_volume\n",
    "mouse_weight\n",
    "\n",
    "plt.scatter(mouse_weight, average_volume, color=\"blue\")\n",
    "plt.title(\"Mouse Weight versus Average Tumor Volume for Capomulin Regimen\")\n",
    "plt.xlabel(\"Mouse Weight (g)\")\n",
    "plt.ylabel(\"Average Tumor Volume (mm3)\")\n",
    "\n",
    "plt.grid()\n",
    "plt.show()\n",
    "capomulin_all"
   ]
  },
  {
   "cell_type": "code",
   "execution_count": 187,
   "metadata": {},
   "outputs": [
    {
     "name": "stdout",
     "output_type": "stream",
     "text": [
      "                            Average Tumor Volume (mm3)  Mice Weight (g)\n",
      "Average Tumor Volume (mm3)                    1.000000         0.841936\n",
      "Mice Weight (g)                               0.841936         1.000000\n",
      "y = 0.95x + 21.55\n"
     ]
    },
    {
     "data": {
      "image/png": "[encoded data removed]",
      "text/plain": [
       "<Figure size 432x288 with 1 Axes>"
      ]
     },
     "metadata": {
      "needs_background": "light"
     },
     "output_type": "display_data"
    }
   ],
   "source": [
    "# Calculate the correlation coefficient and linear regression model for mouse weight and average tumor volume for the Capomulin regimen\n",
    "\n",
    "correlation_df = pd.DataFrame({\"Average Tumor Volume (mm3)\": average_volume, \n",
    "                   \"Mice Weight (g)\": mouse_weight})\n",
    "#Print the correlation coefficent using the pearson method\n",
    "print(correlation_df.corr(method=\"pearson\"))\n",
    "\n",
    "\n",
    "x_axis = mouse_weight\n",
    "y_axis = average_volume\n",
    "\n",
    "(slope, intercept, rvalue, pvalue, stderr) = linregress(x_axis, y_axis)\n",
    "regress_values = correlation_df['Mice Weight (g)'] * slope + intercept\n",
    "line_eq = \"y = \" + str(round(slope,2)) + \"x + \" + str(round(intercept,2))\n",
    "regression = plt.scatter(x_axis,y_axis)\n",
    "plt.plot(x_axis, y_axis,\"r-\")\n",
    "scatter = plt.scatter(mouse_weight, average_volume, color=\"blue\")\n",
    "plt.xlabel('Mouse Weight(g)')\n",
    "plt.ylabel('Average Tumor Volume (mm3)')\n",
    "plt.title(\"Linear Regression Model for Mouse Weight versus Average Tumor Volume for the Capomulin regimen\")\n",
    "scatter\n",
    "\n",
    "plt.grid()\n",
    "plt.show()\n",
    "\n",
    "\n",
    "\n"
   ]
  },
  {
   "cell_type": "code",
   "execution_count": null,
   "metadata": {},
   "outputs": [],
   "source": []
  }
 ],
 "metadata": {
  "anaconda-cloud": {},
  "kernelspec": {
   "display_name": "Python [conda env:PythonData]",
   "language": "python",
   "name": "conda-env-PythonData-py"
  },
  "language_info": {
   "codemirror_mode": {
    "name": "ipython",
    "version": 3
   },
   "file_extension": ".py",
   "mimetype": "text/x-python",
   "name": "python",
   "nbconvert_exporter": "python",
   "pygments_lexer": "ipython3",
   "version": "3.6.9"
  }
 },
 "nbformat": 4,
 "nbformat_minor": 2
}
